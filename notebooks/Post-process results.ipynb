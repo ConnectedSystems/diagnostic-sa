{
 "cells": [
  {
   "cell_type": "markdown",
   "metadata": {},
   "source": [
    "This specific version of the results processor, where only the SW Allocation/Dam Level metrics are of relevance.\n",
    "\n",
    "All other outputs are not important and may not be processed correctly."
   ]
  },
  {
   "cell_type": "code",
   "execution_count": null,
   "metadata": {},
   "outputs": [],
   "source": [
    "%reload_ext autoreload\n",
    "%autoreload 2\n",
    "%matplotlib inline"
   ]
  },
  {
   "cell_type": "code",
   "execution_count": 2,
   "metadata": {},
   "outputs": [],
   "source": [
    "import os\n",
    "import sys\n",
    "import pandas as pd\n",
    "from glob import glob\n",
    "\n",
    "# dirty hack for dev purposes only\n",
    "sys.path.insert(0, os.path.abspath(\"..\"))\n",
    "import camp_process as cpp"
   ]
  },
  {
   "cell_type": "markdown",
   "metadata": {},
   "source": [
    "Common settings defined below"
   ]
  },
  {
   "cell_type": "code",
   "execution_count": 3,
   "metadata": {},
   "outputs": [],
   "source": [
    "pj = os.path.join\n",
    "\n",
    "DATA_PATH = \"D:/campaspeim_results/\"\n",
    "RESULT_PATH = \"../data/\"\n",
    "\n",
    "FIG_PATH = \"../figures/\"\n",
    "\n",
    "batch_files = glob(pj(DATA_PATH, '*.gz'))"
   ]
  },
  {
   "cell_type": "code",
   "execution_count": 4,
   "metadata": {},
   "outputs": [],
   "source": [
    "# Filter groupings\n",
    "ACTIVE = \"with_\"\n",
    "INACTIVE = \"no_\""
   ]
  },
  {
   "cell_type": "markdown",
   "metadata": {},
   "source": [
    "Collating data..."
   ]
  },
  {
   "cell_type": "code",
   "execution_count": 5,
   "metadata": {},
   "outputs": [],
   "source": [
    "active_scenario_fns = [fn for fn in batch_files if ACTIVE in fn]\n",
    "inactive_scenario_fns = [fn for fn in batch_files if INACTIVE in fn]"
   ]
  },
  {
   "cell_type": "code",
   "execution_count": 6,
   "metadata": {},
   "outputs": [],
   "source": [
    "for fn in active_scenario_fns+inactive_scenario_fns:\n",
    "    indicators, _ = cpp.catchment_indicators(fn, timeseries=False)\n",
    "    res = cpp.convert_indicators_to_pd(indicators)\n",
    "    \n",
    "    # Get run id and sort by run order (indicated by first number in ID)\n",
    "    res = res.sort_index(key=lambda x: x.str.split('_').str[0].astype(int))\n",
    "    res = res.reset_index(drop=True)\n",
    "    out_path = \"{}{}_results.csv\".format(RESULT_PATH, os.path.splitext(os.path.basename(fn))[0])\n",
    "    res.to_csv(out_path)\n"
   ]
  },
  {
   "cell_type": "code",
   "execution_count": null,
   "metadata": {},
   "outputs": [],
   "source": []
  }
 ],
 "metadata": {
  "kernelspec": {
   "display_name": "Python (oat-use)",
   "language": "python",
   "name": "oat-use"
  },
  "language_info": {
   "codemirror_mode": {
    "name": "ipython",
    "version": 3
   },
   "file_extension": ".py",
   "mimetype": "text/x-python",
   "name": "python",
   "nbconvert_exporter": "python",
   "pygments_lexer": "ipython3",
   "version": "3.6.6"
  }
 },
 "nbformat": 4,
 "nbformat_minor": 4
}
